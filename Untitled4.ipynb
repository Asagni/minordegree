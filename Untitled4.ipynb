{
  "nbformat": 4,
  "nbformat_minor": 0,
  "metadata": {
    "colab": {
      "provenance": []
    },
    "kernelspec": {
      "name": "python3",
      "display_name": "Python 3"
    },
    "language_info": {
      "name": "python"
    }
  },
  "cells": [
    {
      "cell_type": "code",
      "execution_count": null,
      "metadata": {
        "colab": {
          "base_uri": "https://localhost:8080/"
        },
        "id": "lau-UeAyaOI4",
        "outputId": "2cbf3b5f-ee66-4878-d5e7-53b22b2c4789"
      },
      "outputs": [
        {
          "output_type": "stream",
          "name": "stdout",
          "text": [
            "enter the num of hours worked in a week\n",
            "40\n",
            "pay rate per hour\n",
            "400\n",
            "enter num of weeks in a month\n",
            "4\n",
            "monthly pay of the employee is: 64000\n"
          ]
        }
      ],
      "source": [
        "# let x be the number of hours worked in a week\n",
        "# y be the pay rate per hour\n",
        "# z be the no. of weeks in a month\n",
        "\n",
        "x = int(input(\"enter the num of hours worked in a week\\n\"))\n",
        "y = int(input(\"pay rate per hour\\n\"))\n",
        "z = int(input(\"enter num of weeks in a month\\n\"))\n",
        "monthly_pay = x*y*z\n",
        "print(\"monthly pay of the employee is:\",monthly_pay)"
      ]
    },
    {
      "cell_type": "code",
      "source": [
        "# x is the bill id\n",
        "# y is the customer id\n",
        "\n",
        "x = int(input(\"enter your id\\n\"))\n",
        "y = int (input(\"enter your customer id\\n\"))\n",
        "bill_amount = int(input(\"enter your bill amount\"))\n",
        "print(\"bill id \", x)\n",
        "print(\"customer id\",y)\n",
        "print(\"bill amount\",bill_amount)\n",
        "if bill_amount>500:\n",
        " bill_after_discount = bill_amount*2/100\n",
        " print(\"your bill is\", bill_after_discount)\n",
        "else:\n",
        "  bill_after_discount = bill_amount/100\n",
        "  print(\"your bill is\",bill_after_discount)\n"
      ],
      "metadata": {
        "colab": {
          "base_uri": "https://localhost:8080/"
        },
        "id": "0VmWr5qAebbP",
        "outputId": "72a7cd45-c134-4027-9999-ccb3b2e78d03"
      },
      "execution_count": null,
      "outputs": [
        {
          "output_type": "stream",
          "name": "stdout",
          "text": [
            "enter your id\n",
            "12\n",
            "enter your customer id\n",
            "69\n",
            "enter your bill amount6969\n",
            "bill id  12\n",
            "customer id 69\n",
            "bill amount 6969\n",
            "your bill is 139.38\n"
          ]
        }
      ]
    },
    {
      "cell_type": "code",
      "source": [
        "# x be the employee id\n",
        "# y be the allowances provided to a employee\n",
        "basic_salary = int(input(\"enter your salary\"))\n",
        "print(basic_salary)\n",
        "y = int(input(\"enter your allowances\"))\n",
        "if basic_salary>10000:\n",
        " income_tax = 20*basic_salary/100\n",
        " monthly_salary = basic_salary+y\n",
        " net_salary= monthly_salary-income_tax\n",
        " print(\"income tax\\n\",income_tax)\n",
        " print(\"net salary\\n\",net_salary)\n",
        "else:\n",
        "  net_salary = monthly_salary+y\n",
        "  print(\"net_salary\")\n"
      ],
      "metadata": {
        "colab": {
          "base_uri": "https://localhost:8080/"
        },
        "id": "ILarfPBVmgKK",
        "outputId": "e86c6049-335a-4d5a-f38c-19b0bfaf8589"
      },
      "execution_count": null,
      "outputs": [
        {
          "output_type": "stream",
          "name": "stdout",
          "text": [
            "enter your salary100000\n",
            "100000\n",
            "enter your allowances50000\n",
            "income tax\n",
            " 20000.0\n",
            "net salary\n",
            " 130000.0\n"
          ]
        }
      ]
    }
  ]
}